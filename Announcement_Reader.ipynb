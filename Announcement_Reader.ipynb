{
 "cells": [
  {
   "cell_type": "code",
   "execution_count": 7,
   "metadata": {},
   "outputs": [
    {
     "name": "stdout",
     "output_type": "stream",
     "text": [
      "['20200323-asx200-rebalance-delayed.pdf', '20200316-asx200-demerger.pdf', '20200313-asx200-rebalance.pdf', '20191213-asx200-rebalance.pdf', '20191205-asx200-removal.pdf', '20191107-asx200-removal.pdf', '20190906-asx200-rebalance.pdf', '20190731-asx200-removal.pdf', '20190614-asx200-rebalance.pdf', '20190415-asx200-removal.pdf', '20190308-asx200-rebalance.pdf', '20181214-asx200-rebalance.pdf', '20181129-asx200-removal.pdf', '20181121-asx200-removal.pdf', '20181114-asx200-demerger.pdf', '20181011-asx200-removal.pdf', '20181004-asx200-removal.pdf', '20180910-asx200-removal.pdf', '20180907-asx200-rebalance.pdf', '20180905-asx200-update.pdf', '20180831-asx200-removal.pdf', '20180608-asx200-rebalance.pdf', '20180524-asx200-demerger.pdf', '20180518-asx200-removal.pdf', '20180507-asx200-update.pdf', '20180503-asx200-removal.pdf', '20180309-asx200-rebalance.pdf', '20171208-asx200-rebalance.pdf', '20171206-asx200-removal.pdf', '20171107-asx200-addition.pdf', '20170901-asx200-rebalance.pdf', '20170728-asx200-removal.pdf', '20170609-asx200-rebalance.pdf', '20170421-asx200-removal.pdf', '20161209-asx200-rebalance.pdf', '20161205-asx200-removal.pdf', '20160902-asx200-rebalance.pdf', '20160722-asx200-removal.pdf', '20160621-asx200-removal.pdf', '20160617-asx200-demerger.pdf', '20160610-asx200-rebalance.pdf', '20160503-asx200-removal.pdf', '20160414-asx200-removal.pdf', '20160311-asx200-rebalance.pdf', '20160204-asx200-removal.pdf', '20160201-asx200-removal.pdf', '20160125-asx200-demerger.pdf', '20151204-asx200-rebalance.pdf', '20150904-asx200-rebalance.pdf', '20150903-asx200-removal.pdf', '20150820-asx200-removal.pdf', '20150605-asx200-rebalance.pdf', '20150522-asx200-removal.pdf', '20150515-asx200-removal.pdf', '20150507-bhp-demerger.pdf', '20150507-asx200-removal.pdf', '20150306-asx200-rebalance.pdf', '20150224-asx200-removal.pdf', '20141205-asx200-rebalance.pdf', '20141008-asx200-removal.pdf', '20140905-asx200-rebalance.pdf', '20140815-asx200-removal.pdf', '20140808-asx200-removal.pdf', '20140714-asx200-removal.pdf', '20140707-asx200-removal.pdf', '20140606-asx200-rebalance.pdf', '20140520-asx200-removal.pdf', '20140423-asx200-removal.pdf', '20140307-asx200-rebalance.pdf', '20140212-asx200-removal.pdf', '20131210-asx200-addition.pdf', '20131206-asx200-rebalance.pdf', '20131202-asx200-no-change.pdf', '20131108-asx200-removal.pdf', '20130906-asx200-rebalance.pdf', '20130607-asx200-rebalance.pdf', '20130301-asx200-rebalance.pdf', '20121207-asx200-rebalance.pdf', '20120907-asx200-rebalance.pdf', '20120720-asx200-removal.pdf', '20120620-asx200-removal.pdf', '20120601-asx200-rebalance.pdf', '20120412-asx200-removal.pdf', '20120405-asx200-removal.pdf', '20120321-asx200-removal.pdf', '20120302-asx200-rebalance.pdf', '20111202-asx200-rebalance.pdf', '20111125-asx200-removal.pdf', '20111111-asx200-addition.pdf', '20111026-asx200-removal.pdf', '20110902-asx200-rebalance.pdf', '20110603-asx200-rebalance.pdf', '20110602-asx200-removal.pdf', '20110527-asx200-addition.pdf', '20110502-asx200-addition.pdf', '20110415-asx200-removal.pdf']\n"
     ]
    },
    {
     "ename": "NameError",
     "evalue": "name 'pyPDF2' is not defined",
     "output_type": "error",
     "traceback": [
      "\u001b[0;31m---------------------------------------------------------------------------\u001b[0m",
      "\u001b[0;31mNameError\u001b[0m                                 Traceback (most recent call last)",
      "\u001b[0;32m<ipython-input-7-bc2a728e924d>\u001b[0m in \u001b[0;36m<module>\u001b[0;34m\u001b[0m\n\u001b[1;32m     20\u001b[0m \u001b[0;34m\u001b[0m\u001b[0m\n\u001b[1;32m     21\u001b[0m \u001b[0mtarget_file\u001b[0m \u001b[0;34m=\u001b[0m \u001b[0mopen\u001b[0m\u001b[0;34m(\u001b[0m\u001b[0mfile\u001b[0m\u001b[0;34m=\u001b[0m\u001b[0;34m'20200323-asx200-rebalance-delayed.pdf'\u001b[0m\u001b[0;34m,\u001b[0m\u001b[0mmode\u001b[0m\u001b[0;34m=\u001b[0m\u001b[0;34m'rb'\u001b[0m\u001b[0;34m)\u001b[0m\u001b[0;34m\u001b[0m\u001b[0;34m\u001b[0m\u001b[0m\n\u001b[0;32m---> 22\u001b[0;31m \u001b[0mstring\u001b[0m \u001b[0;34m=\u001b[0m \u001b[0mpyPDF2\u001b[0m\u001b[0;34m.\u001b[0m\u001b[0mPdfFileReader\u001b[0m\u001b[0;34m(\u001b[0m\u001b[0mtarget_file\u001b[0m\u001b[0;34m)\u001b[0m\u001b[0;34m\u001b[0m\u001b[0;34m\u001b[0m\u001b[0m\n\u001b[0m\u001b[1;32m     23\u001b[0m \u001b[0mstring\u001b[0m\u001b[0;34m.\u001b[0m\u001b[0mextractText\u001b[0m\u001b[0;34m(\u001b[0m\u001b[0;34m)\u001b[0m\u001b[0;34m\u001b[0m\u001b[0;34m\u001b[0m\u001b[0m\n\u001b[1;32m     24\u001b[0m \u001b[0;34m\u001b[0m\u001b[0m\n",
      "\u001b[0;31mNameError\u001b[0m: name 'pyPDF2' is not defined"
     ]
    }
   ],
   "source": [
    "import os\n",
    "import PyPDF2\n",
    "\n",
    "directory = os.getcwd()\n",
    "\n",
    "listoffiles = []\n",
    "\n",
    "for filename in os.listdir(directory):\n",
    "    if filename.endswith(\".pdf\"):\n",
    "        target_file = open(file=filename,mode='r',encoding='utf-8')\n",
    "        listoffiles += [filename]\n",
    "        \n",
    "listoffiles.sort(reverse=True)\n",
    "\n",
    "print(listoffiles)\n",
    "#for each in listoffiles:\n",
    "#    target_file = open(file=each, mode='r', encoding='latin-1')\n",
    "#    string = target_file.read()\n",
    "#    print(string)\n",
    "\n",
    "target_file = open(file='20200323-asx200-rebalance-delayed.pdf',mode='rb')\n",
    "string = pyPDF2.PdfFileReader(target_file)\n",
    "string.extractText()\n",
    "\n",
    "    \n",
    "    "
   ]
  },
  {
   "cell_type": "code",
   "execution_count": 36,
   "metadata": {},
   "outputs": [
    {
     "name": "stdout",
     "output_type": "stream",
     "text": [
      "Requirement already satisfied: PyPDF2 in /Users/null/opt/anaconda3/lib/python3.7/site-packages (1.26.0)\n",
      "Note: you may need to restart the kernel to use updated packages.\n"
     ]
    }
   ],
   "source": [
    "pip install PyPDF2"
   ]
  },
  {
   "cell_type": "code",
   "execution_count": 37,
   "metadata": {},
   "outputs": [],
   "source": [
    "import PyPDF2"
   ]
  },
  {
   "cell_type": "code",
   "execution_count": 78,
   "metadata": {
    "scrolled": true
   },
   "outputs": [
    {
     "name": "stdout",
     "output_type": "stream",
     "text": [
      "['20200323-asx200-rebalance-delayed.pdf', '20200316-asx200-demerger.pdf', '20200313-asx200-rebalance.pdf', '20191213-asx200-rebalance.pdf', '20191205-asx200-removal.pdf', '20191107-asx200-removal.pdf', '20190906-asx200-rebalance.pdf', '20190731-asx200-removal.pdf', '20190614-asx200-rebalance.pdf', '20190415-asx200-removal.pdf', '20190308-asx200-rebalance.pdf', '20181214-asx200-rebalance.pdf', '20181129-asx200-removal.pdf', '20181121-asx200-removal.pdf', '20181114-asx200-demerger.pdf', '20181011-asx200-removal.pdf', '20181004-asx200-removal.pdf', '20180910-asx200-removal.pdf', '20180907-asx200-rebalance.pdf', '20180905-asx200-update.pdf', '20180831-asx200-removal.pdf', '20180608-asx200-rebalance.pdf', '20180524-asx200-demerger.pdf', '20180518-asx200-removal.pdf', '20180507-asx200-update.pdf', '20180503-asx200-removal.pdf', '20180309-asx200-rebalance.pdf', '20171208-asx200-rebalance.pdf', '20171206-asx200-removal.pdf', '20171107-asx200-addition.pdf', '20170901-asx200-rebalance.pdf', '20170728-asx200-removal.pdf', '20170609-asx200-rebalance.pdf', '20170421-asx200-removal.pdf', '20161209-asx200-rebalance.pdf', '20161205-asx200-removal.pdf', '20160902-asx200-rebalance.pdf', '20160722-asx200-removal.pdf', '20160621-asx200-removal.pdf', '20160617-asx200-demerger.pdf', '20160610-asx200-rebalance.pdf', '20160503-asx200-removal.pdf', '20160414-asx200-removal.pdf', '20160311-asx200-rebalance.pdf', '20160204-asx200-removal.pdf', '20160201-asx200-removal.pdf', '20160125-asx200-demerger.pdf', '20151204-asx200-rebalance.pdf', '20150904-asx200-rebalance.pdf', '20150903-asx200-removal.pdf', '20150820-asx200-removal.pdf', '20150605-asx200-rebalance.pdf', '20150522-asx200-removal.pdf', '20150515-asx200-removal.pdf', '20150507-bhp-demerger.pdf', '20150507-asx200-removal.pdf', '20150306-asx200-rebalance.pdf', '20150224-asx200-removal.pdf', '20141205-asx200-rebalance.pdf', '20141008-asx200-removal.pdf', '20140905-asx200-rebalance.pdf', '20140815-asx200-removal.pdf', '20140808-asx200-removal.pdf', '20140714-asx200-removal.pdf', '20140707-asx200-removal.pdf', '20140606-asx200-rebalance.pdf', '20140520-asx200-removal.pdf', '20140423-asx200-removal.pdf', '20140307-asx200-rebalance.pdf', '20140212-asx200-removal.pdf', '20131210-asx200-addition.pdf', '20131206-asx200-rebalance.pdf', '20131202-asx200-no-change.pdf', '20131108-asx200-removal.pdf', '20130906-asx200-rebalance.pdf', '20130607-asx200-rebalance.pdf', '20130301-asx200-rebalance.pdf', '20121207-asx200-rebalance.pdf', '20120907-asx200-rebalance.pdf', '20120720-asx200-removal.pdf', '20120620-asx200-removal.pdf', '20120601-asx200-rebalance.pdf', '20120412-asx200-removal.pdf', '20120405-asx200-removal.pdf', '20120321-asx200-removal.pdf', '20120302-asx200-rebalance.pdf', '20111202-asx200-rebalance.pdf', '20111125-asx200-removal.pdf', '20111111-asx200-addition.pdf', '20111026-asx200-removal.pdf', '20110902-asx200-rebalance.pdf', '20110603-asx200-rebalance.pdf', '20110602-asx200-removal.pdf', '20110527-asx200-addition.pdf', '20110502-asx200-addition.pdf', '20110415-asx200-removal.pdf']\n"
     ]
    }
   ],
   "source": [
    "import PyPDF2\n",
    "import os\n",
    "import pandas as pd\n",
    "\n",
    "## Set the current directory\n",
    "directory = os.getcwd()\n",
    "\n",
    "## Create a list to store the names of the files\n",
    "listoffiles = []\n",
    "\n",
    "## Add the PDF names to the list\n",
    "for filename in os.listdir(directory):\n",
    "    if filename.endswith(\".pdf\"):\n",
    "        #target_file = open(file=filename,mode='r',encoding='utf-8')\n",
    "        listoffiles += [filename]\n",
    "\n",
    "## Sort the list from most recent to oldest.\n",
    "listoffiles.sort(reverse=True)\n",
    "\n",
    "print(listoffiles)"
   ]
  },
  {
   "cell_type": "code",
   "execution_count": 93,
   "metadata": {},
   "outputs": [],
   "source": [
    "mentions = pd.DataFrame(columns = ['Date','Ticker']) \n",
    "\n",
    "common_tickers = ['ASX','DOW','DJI']\n",
    "\n",
    "for each in listoffiles:\n",
    "    pdfFileObj = open(each,'rb')\n",
    "    pdfReader = PyPDF2.PdfFileReader(pdfFileObj)\n",
    "    string = ''\n",
    "    for i in range(0,pdfReader.numPages):\n",
    "        pageObj = pdfReader.getPage(i)\n",
    "        string += ' \\n ' + pageObj.extractText()\n",
    "\n",
    "    while len(string) > 5:\n",
    "        if string[0].isupper() == False and string[1].isupper() and string[2].isupper()and string[3].isupper() and string[4].isupper()==False:\n",
    "            if string[1:4] not in common_tickers:\n",
    "                mentions = mentions.append({'Date':each[0:8], 'Ticker':string[1:4]},ignore_index=True)\n",
    "            string = string[3:len(string)]\n",
    "        else:\n",
    "            string=string[1:len(string)]\n",
    "\n",
    "mentions['Date'] = mentions['Date'].astype('datetime64[ns]')\n",
    "mentions.to_csv('ASX pdf tickers.csv')"
   ]
  },
  {
   "cell_type": "code",
   "execution_count": 90,
   "metadata": {},
   "outputs": [
    {
     "name": "stdout",
     "output_type": "stream",
     "text": [
      "         Ticker\n",
      "Date           \n",
      "20200323    NEW\n",
      "20200323    IWF\n",
      "20200323    ESG\n",
      "20200323    ADR\n",
      "20200323    ESG\n",
      "...         ...\n",
      "20110502    AMT\n",
      "20110415    TAL\n",
      "20110415    MSB\n",
      "20110415    BMI\n",
      "20110415    AMT\n",
      "\n",
      "[814 rows x 1 columns]\n",
      "         Ticker\n",
      "Date           \n",
      "20200323    NEW\n",
      "20200323    IWF\n",
      "20200323    ESG\n",
      "20200323    ADR\n",
      "20200323    ESG\n",
      "...         ...\n",
      "20110502    AMT\n",
      "20110415    TAL\n",
      "20110415    MSB\n",
      "20110415    BMI\n",
      "20110415    AMT\n",
      "\n",
      "[814 rows x 1 columns]\n"
     ]
    }
   ],
   "source": [
    "mentions = mentions.set_index('Date')\n",
    "\n",
    "print(mentions)"
   ]
  },
  {
   "cell_type": "code",
   "execution_count": 38,
   "metadata": {},
   "outputs": [
    {
     "name": "stdout",
     "output_type": "stream",
     "text": [
      "False\n"
     ]
    }
   ],
   "source": []
  },
  {
   "cell_type": "code",
   "execution_count": null,
   "metadata": {},
   "outputs": [],
   "source": []
  },
  {
   "cell_type": "code",
   "execution_count": null,
   "metadata": {},
   "outputs": [],
   "source": []
  }
 ],
 "metadata": {
  "kernelspec": {
   "display_name": "Python 3",
   "language": "python",
   "name": "python3"
  },
  "language_info": {
   "codemirror_mode": {
    "name": "ipython",
    "version": 3
   },
   "file_extension": ".py",
   "mimetype": "text/x-python",
   "name": "python",
   "nbconvert_exporter": "python",
   "pygments_lexer": "ipython3",
   "version": "3.7.6"
  }
 },
 "nbformat": 4,
 "nbformat_minor": 4
}
